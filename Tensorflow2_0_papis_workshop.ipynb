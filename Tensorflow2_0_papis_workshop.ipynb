{
 "cells": [
  {
   "cell_type": "markdown",
   "metadata": {
    "colab_type": "text",
    "id": "1_Fpon_frLlk"
   },
   "source": [
    "# Everything you need to know about Tensorflow 2.0"
   ]
  },
  {
   "cell_type": "code",
   "execution_count": 1,
   "metadata": {
    "collapsed": true
   },
   "outputs": [],
   "source": [
    "# # Installing and loading libraries\n",
    "# !pip install tensorflow-gpu==2.0.0-beta1"
   ]
  },
  {
   "cell_type": "code",
   "execution_count": 2,
   "metadata": {
    "collapsed": true
   },
   "outputs": [],
   "source": [
    "# # download and install keras-tuner\n",
    "# !git clone https://github.com/keras-team/keras-tuner.git\n",
    "# !pip install ./keras-tuner"
   ]
  },
  {
   "cell_type": "code",
   "execution_count": 3,
   "metadata": {
    "colab": {
     "base_uri": "https://localhost:8080/",
     "height": 34
    },
    "colab_type": "code",
    "id": "voiTwjZ9rLB_",
    "outputId": "b9239161-a08f-4fed-f8a9-a7720a39c1a0"
   },
   "outputs": [
    {
     "name": "stdout",
     "output_type": "stream",
     "text": [
      "2.0.0-beta1\n"
     ]
    }
   ],
   "source": [
    "# import libraries\n",
    "import tensorflow as tf\n",
    "\n",
    "import matplotlib.pyplot as plt\n",
    "import numpy as np\n",
    "import time\n",
    "\n",
    "# Tensorflow datasets\n",
    "import tensorflow_datasets as tfds\n",
    "from sklearn.utils.multiclass import unique_labels\n",
    "print(tf.__version__)\n",
    "\n",
    "import time\n",
    "from sklearn.metrics import confusion_matrix\n",
    "from tensorflow.python.keras.callbacks import TensorBoard"
   ]
  },
  {
   "cell_type": "code",
   "execution_count": 4,
   "metadata": {
    "colab": {},
    "colab_type": "code",
    "collapsed": true,
    "id": "B6hyVqrHZZ3R"
   },
   "outputs": [],
   "source": [
    "def plot_confusion_matrix(y_true, y_pred, classes,\n",
    "                          normalize=False,\n",
    "                          title=None,\n",
    "                          cmap=plt.cm.Blues):\n",
    "    \"\"\"\n",
    "    This function prints and plots the confusion matrix.\n",
    "    Normalization can be applied by setting `normalize=True`.\n",
    "    \"\"\"\n",
    "    if not title:\n",
    "        if normalize:\n",
    "            title = 'Normalized confusion matrix'\n",
    "        else:\n",
    "            title = 'Confusion matrix, without normalization'\n",
    "\n",
    "    # Compute confusion matrix\n",
    "    cm = confusion_matrix(y_true, y_pred)\n",
    "\n",
    "    if normalize:\n",
    "        cm = cm.astype('float') / cm.sum(axis=1)[:, np.newaxis]\n",
    "        print(\"Normalized confusion matrix\")\n",
    "    else:\n",
    "        print('Confusion matrix, without normalization')\n",
    "\n",
    "    fig, ax = plt.subplots(figsize=(8,8))\n",
    "    im = ax.imshow(cm, interpolation='nearest', cmap=cmap)\n",
    "    ax.figure.colorbar(im, ax=ax)\n",
    "    # We want to show all ticks...\n",
    "    ax.set(xticks=np.arange(cm.shape[1]),\n",
    "           yticks=np.arange(cm.shape[0]),\n",
    "           # ... and label them with the respective list entries\n",
    "           xticklabels=classes, yticklabels=classes,\n",
    "           title=title,\n",
    "           ylabel='True label',\n",
    "           xlabel='Predicted label')\n",
    "\n",
    "    # Rotate the tick labels and set their alignment.\n",
    "    plt.setp(ax.get_xticklabels(), rotation=45, ha=\"right\",\n",
    "             rotation_mode=\"anchor\")\n",
    "\n",
    "    # Loop over data dimensions and create text annotations.\n",
    "    fmt = '.2f' if normalize else 'd'\n",
    "    thresh = cm.max() / 2.\n",
    "    for i in range(cm.shape[0]):\n",
    "        for j in range(cm.shape[1]):\n",
    "            ax.text(j, i, format(cm[i, j], fmt),\n",
    "                    ha=\"center\", va=\"center\",\n",
    "                    color=\"white\" if cm[i, j] > thresh else \"black\")\n",
    "    fig.tight_layout()\n",
    "    return ax"
   ]
  },
  {
   "cell_type": "markdown",
   "metadata": {
    "colab_type": "text",
    "id": "RXAvW1MIm89g"
   },
   "source": [
    "## What is Tensorflow\n",
    "\n",
    "- Tensorflow is a general purpose high-performance computing library.\n",
    "\n",
    "![alt text](https://drive.google.com/uc?id=1s4d6Na9fSCGjF_zyVT4p5fmLFnxCa_mS)\n",
    "\n",
    "- OpenSourced by Google in 2015\n",
    "\n",
    "- Very Popular Machine Learning Lib.\n",
    "  - **130K stars and 58k commits on Github.**\n",
    "\n",
    "- From a Neural Network based lib to a robust ML ecosystem.\n"
   ]
  },
  {
   "cell_type": "markdown",
   "metadata": {
    "colab_type": "text",
    "id": "MJu2WiMdczkI"
   },
   "source": [
    "## TF 1.x vs TF 2.0\n",
    "\n",
    "![alt text](https://drive.google.com/uc?id=1xv51KueUja9A-jNpjBswlRSOGp8tGGFx)\n",
    "\n",
    "You could define some variables and assign values to them, but you couldn't really use them.\n",
    "\n",
    "### Tensorflow 1.x\n",
    "- tf.layers\n",
    "- tf.slim\n",
    "- tf.layers.contrib\n",
    "- tf.keras\n",
    "-tf.estimators\n",
    "    \n",
    "### Tensorflow 2.0\n",
    "\n",
    "![alt text](https://drive.google.com/uc?id=1u-Hp8X9QbBDwoblNVB-syKj8DmEY2fCi)\n",
    "\n",
    "- Eager Execution By Default\n",
    "  - Code looks a lot like NumPy programming\n",
    "  - Do not need to worry about **sessions**, **placeholders**, **feed_dict**, etc.\n",
    "- API Cleanup\n",
    "- tf.keras as the default high-level API\n",
    "- Standardized was of saving models (SavedModel)"
   ]
  },
  {
   "cell_type": "markdown",
   "metadata": {
    "colab_type": "text",
    "id": "JI3qnpuQrrGC"
   },
   "source": [
    "## Beginners API\n",
    "\n",
    "- Keras is a set of layers that describes how to build neural networks using a clear standard.\n",
    "- Install Tensorflow using pip and get the full Keras API\n"
   ]
  },
  {
   "cell_type": "code",
   "execution_count": 5,
   "metadata": {
    "colab": {
     "base_uri": "https://localhost:8080/",
     "height": 252
    },
    "colab_type": "code",
    "id": "-h2rXPXttvhE",
    "outputId": "b3c7db98-6d89-4296-9fe0-3f7c55944174"
   },
   "outputs": [
    {
     "name": "stdout",
     "output_type": "stream",
     "text": [
      "# of train examples: 60000\n",
      "# of test examples: 10000\n",
      "Image shape: (28, 28)\n",
      "Pixel value interval: 0 255\n",
      "Train shape: (60000, 28, 28)\n",
      "Test shape: (10000, 28, 28)\n"
     ]
    }
   ],
   "source": [
    "# load the date using keras datasets\n",
    "\n",
    "# Choose between mnist and fashing_mnist\n",
    "mnist = tf.keras.datasets.fashion_mnist\n",
    "\n",
    "# load the data\n",
    "(x_train, y_train), (x_test, y_test) = mnist.load_data()\n",
    "\n",
    "# check some statistics\n",
    "IMAGE_HEIGHT, IMAGE_WIDTH = x_train.shape[1:3]\n",
    "print(\"# of train examples:\", x_train.shape[0])\n",
    "print(\"# of test examples:\", x_test.shape[0])\n",
    "print(\"Image shape:\", x_train[0].shape)\n",
    "print(\"Pixel value interval:\", np.min(x_train), np.max(x_train))\n",
    "print(\"Train shape:\",x_train.shape)\n",
    "print(\"Test shape:\",x_test.shape)"
   ]
  },
  {
   "cell_type": "code",
   "execution_count": 6,
   "metadata": {
    "colab": {},
    "colab_type": "code",
    "collapsed": true,
    "id": "upDZLC6pTiA4"
   },
   "outputs": [],
   "source": [
    "# Normalize the data\n",
    "train_mean = np.mean(x_train)\n",
    "train_std = np.std(x_train)\n",
    "x_train = (x_train - train_mean) / train_std\n",
    "x_test = (x_test - train_mean) / train_std"
   ]
  },
  {
   "cell_type": "code",
   "execution_count": 7,
   "metadata": {
    "colab": {
     "base_uri": "https://localhost:8080/",
     "height": 269
    },
    "colab_type": "code",
    "id": "4yLuT6LqxhZc",
    "outputId": "f679adea-8f80-4f08-b384-5f5d12d97f2d"
   },
   "outputs": [
    {
     "data": {
      "image/png": "[encoded data removed]",
      "text/plain": [
       "<Figure size 864x288 with 18 Axes>"
      ]
     },
     "metadata": {
      "needs_background": "light"
     },
     "output_type": "display_data"
    }
   ],
   "source": [
    "# visualize some of the examples\n",
    "fig, axs = plt.subplots(nrows=3, ncols=6, constrained_layout=False, figsize=(12,4))\n",
    "for i, ax in enumerate(axs.flat):\n",
    "  ax.imshow(x_train[i], cmap=\"gray\")"
   ]
  },
  {
   "cell_type": "markdown",
   "metadata": {
    "colab_type": "text",
    "id": "DDIc8ykVLuLz"
   },
   "source": [
    "## Begginer API\n",
    "\n",
    "##  Keras Sequential API \n",
    "- The Sequential API defines a Neural Network as a stack of layers\n",
    "- Very easy to define a model and to add new layers\n",
    "- You a really defining a data structure\n",
    "- Minimize errors in the model definition\n",
    "- Much easier to debug\n",
    "\n",
    "## Get your hands dirty\n",
    "- Define your own Neural Net\n",
    "- Specify the # of units for the hidden layer\n",
    "- Do not forget the **number of classes**\n",
    "- Try to add more hidden layers\n",
    "  - **Dense()**\n",
    "  -  **Dropout()**\n",
    "  - **BatchNormalization()**"
   ]
  },
  {
   "cell_type": "code",
   "execution_count": 8,
   "metadata": {
    "colab": {},
    "colab_type": "code",
    "collapsed": true,
    "id": "nkj96hCfc1O_"
   },
   "outputs": [],
   "source": [
    "# Tensorflow keras layers\n",
    "from tensorflow.keras.layers import Dense, Flatten, Dropout, BatchNormalization, Conv2D, AveragePooling2D, MaxPool2D"
   ]
  },
  {
   "cell_type": "code",
   "execution_count": 9,
   "metadata": {
    "colab": {
     "base_uri": "https://localhost:8080/",
     "height": 367
    },
    "colab_type": "code",
    "id": "xOwDt94urLEZ",
    "outputId": "31021644-f139-46d5-8b96-189146069b88"
   },
   "outputs": [],
   "source": [
    "model = tf.keras.models.Sequential()\n",
    "model.add(Flatten(input_shape=(IMAGE_HEIGHT,IMAGE_WIDTH)))\n",
    "model.add(Dense(units=..., activation='relu'))\n",
    "model.add(Dropout(...))\n",
    "model.add(Dense(units=..., activation='relu'))\n",
    "model.add(Dense(units=10, activation='softmax'))"
   ]
  },
  {
   "cell_type": "markdown",
   "metadata": {
    "colab_type": "text",
    "id": "9BXHP_0YqsfT"
   },
   "source": [
    "## Configures the model for training.\n",
    "\n",
    "- **optimizer**: String (name of optimizer) or optimizer instance. e.g. adam, rmsprob\n",
    "- **metrics**:  List of metrics to be evaluated by the model during training and testing"
   ]
  },
  {
   "cell_type": "code",
   "execution_count": 10,
   "metadata": {
    "colab": {},
    "colab_type": "code",
    "id": "9zIm1V-6rLHC"
   },
   "outputs": [
    {
     "name": "stdout",
     "output_type": "stream",
     "text": [
      "Model: \"sequential\"\n",
      "_________________________________________________________________\n",
      "Layer (type)                 Output Shape              Param #   \n",
      "=================================================================\n",
      "flatten (Flatten)            (None, 784)               0         \n",
      "_________________________________________________________________\n",
      "dense (Dense)                (None, 16)                12560     \n",
      "_________________________________________________________________\n",
      "dropout (Dropout)            (None, 16)                0         \n",
      "_________________________________________________________________\n",
      "dense_1 (Dense)              (None, 16)                272       \n",
      "_________________________________________________________________\n",
      "dense_2 (Dense)              (None, 10)                170       \n",
      "=================================================================\n",
      "Total params: 13,002\n",
      "Trainable params: 13,002\n",
      "Non-trainable params: 0\n",
      "_________________________________________________________________\n"
     ]
    }
   ],
   "source": [
    "# Configures the model for training.\n",
    "# Define the model optimizer, the loss function and the accuracy metrics\n",
    "model.compile(optimizer='adam',\n",
    "              loss='sparse_categorical_crossentropy',\n",
    "              metrics=['accuracy'])\n",
    "model.summary()"
   ]
  },
  {
   "cell_type": "markdown",
   "metadata": {
    "colab_type": "text",
    "id": "-79GNR6A-wY4"
   },
   "source": [
    "## Setting up TensorBoard"
   ]
  },
  {
   "cell_type": "code",
   "execution_count": 11,
   "metadata": {
    "colab": {},
    "colab_type": "code",
    "collapsed": true,
    "id": "wmj2cTqO-v0P"
   },
   "outputs": [],
   "source": [
    "# Load the TensorBoard notebook extension\n",
    "%load_ext tensorboard\n",
    "%reload_ext tensorboard\n",
    "\n",
    "# create the tensorboard callback\n",
    "tensorboard = TensorBoard(log_dir='logs/{}'.format(time.time()), histogram_freq=1)"
   ]
  },
  {
   "cell_type": "markdown",
   "metadata": {
    "colab_type": "text",
    "id": "oseXrnZauCQW"
   },
   "source": [
    "## Training"
   ]
  },
  {
   "cell_type": "code",
   "execution_count": 12,
   "metadata": {
    "colab": {},
    "colab_type": "code",
    "id": "K4sa-8G0voAS"
   },
   "outputs": [
    {
     "name": "stderr",
     "output_type": "stream",
     "text": [
      "WARNING: Logging before flag parsing goes to stderr.\n",
      "W0625 21:22:05.253306 140736008455040 deprecation.py:323] From /Users/thalles.silva/.virtualenvs/tf2.0/lib/python3.6/site-packages/tensorflow/python/ops/math_grad.py:1250: add_dispatch_support.<locals>.wrapper (from tensorflow.python.ops.array_ops) is deprecated and will be removed in a future version.\n",
      "Instructions for updating:\n",
      "Use tf.where in 2.0, which has the same broadcast rule as np.where\n"
     ]
    },
    {
     "name": "stdout",
     "output_type": "stream",
     "text": [
      "Train on 60000 samples, validate on 10000 samples\n",
      "Epoch 1/2\n",
      "60000/60000 [==============================] - 5s 87us/sample - loss: 0.8756 - accuracy: 0.6801 - val_loss: 0.5724 - val_accuracy: 0.8007\n",
      "Epoch 2/2\n",
      "60000/60000 [==============================] - 5s 75us/sample - loss: 0.6472 - accuracy: 0.7585 - val_loss: 0.4975 - val_accuracy: 0.8194\n"
     ]
    },
    {
     "data": {
      "text/plain": [
       "<tensorflow.python.keras.callbacks.History at 0x14b91e160>"
      ]
     },
     "execution_count": 12,
     "metadata": {},
     "output_type": "execute_result"
    }
   ],
   "source": [
    "# train the model\n",
    "model.fit(x=x_train, \n",
    "          y=y_train, \n",
    "          epochs=2, \n",
    "          validation_data=(x_test, y_test), \n",
    "          callbacks=[tensorboard])"
   ]
  },
  {
   "cell_type": "code",
   "execution_count": 13,
   "metadata": {
    "colab": {},
    "colab_type": "code",
    "id": "RDXj0t4WArDK"
   },
   "outputs": [],
   "source": [
    "# launch TensorBoard from Jupyter\n",
    "# %tensorboard --logdir logs"
   ]
  },
  {
   "cell_type": "markdown",
   "metadata": {
    "colab_type": "text",
    "id": "RDk6mHAqx8I5"
   },
   "source": [
    "## Keras-Tuner\n",
    "\n",
    "- **Keras-tuner** is a dedicated library for hyper-parameter tuning of Keras models. \n",
    "- The lib is in **pre-alpha** status, but works fine on Colab with tf.keras and Tensorflow 2.0 beta. "
   ]
  },
  {
   "cell_type": "code",
   "execution_count": 14,
   "metadata": {
    "colab": {},
    "colab_type": "code",
    "collapsed": true,
    "id": "wBIwO92yx6ns"
   },
   "outputs": [],
   "source": [
    "from tensorflow import keras\n",
    "from tensorflow.keras import layers\n",
    "from kerastuner.tuners import RandomSearch\n",
    "\n",
    "\n",
    "def build_model(hp):\n",
    "  # define the hyper parameter ranges for the learning rate, dropout and hidden unit\n",
    "  hp_units = hp.Range('units', min_value=..., max_value=..., step=...)\n",
    "  hp_lr = hp.Choice('learning_rate', values=[1e-2, 1e-3, 1e-4])\n",
    "  hp_dropout = hp.Choice('dropout', values=[0.1,0.2,0.3])\n",
    "\n",
    "  # build a Sequential model\n",
    "  model = keras.Sequential()\n",
    "  model.add(Flatten(input_shape=(IMAGE_HEIGHT,IMAGE_WIDTH)))\n",
    "  model.add(Dense(units=hp_units, activation='relu'))\n",
    "  model.add(Dropout(hp_dropout))\n",
    "  model.add(Dense(units=32, activation='relu'))\n",
    "  model.add(layers.Dense(10, activation='softmax'))\n",
    "\n",
    "  # compile and return the model\n",
    "  model.compile(optimizer=keras.optimizers.Adam(hp_lr),\n",
    "      loss='sparse_categorical_crossentropy',\n",
    "      metrics=['accuracy'])\n",
    "  return model"
   ]
  },
  {
   "cell_type": "code",
   "execution_count": 15,
   "metadata": {
    "colab": {},
    "colab_type": "code",
    "id": "GGuJtipLzk9C"
   },
   "outputs": [],
   "source": [
    "# create a Random Search tuner\n",
    "tuner = RandomSearch(\n",
    "    build_model,\n",
    "    objective='val_accuracy', # define the metric to be optimized over\n",
    "    max_trials=3,\n",
    "    executions_per_trial=1,\n",
    "    directory='my_logs') # define the output log/checkpoints folder"
   ]
  },
  {
   "cell_type": "code",
   "execution_count": null,
   "metadata": {
    "colab": {},
    "colab_type": "code",
    "id": "s0ZFQLhNzjcS"
   },
   "outputs": [
    {
     "data": {
      "text/html": [
       "<span style=\"color:#4527A0\"><h1 style=\"font-size:18px\">New model</h1></span>"
      ],
      "text/plain": [
       "<IPython.core.display.HTML object>"
      ]
     },
     "metadata": {},
     "output_type": "display_data"
    },
    {
     "data": {
      "text/html": [
       "<span style=\"color:#4527A0\"><h1 style=\"font-size:18px\">Trial summary</h1></span>"
      ],
      "text/plain": [
       "<IPython.core.display.HTML object>"
      ]
     },
     "metadata": {},
     "output_type": "display_data"
    },
    {
     "data": {
      "text/html": [
       "<span style=\"color:#7E57C2\"><h2 style=\"font-size:16px\">Hp values:</h2></span>"
      ],
      "text/plain": [
       "<IPython.core.display.HTML object>"
      ]
     },
     "metadata": {},
     "output_type": "display_data"
    },
    {
     "data": {
      "text/html": [
       "<span style=\"color:cyan\"> |-dropout: 0.1</span>"
      ],
      "text/plain": [
       "<IPython.core.display.HTML object>"
      ]
     },
     "metadata": {},
     "output_type": "display_data"
    },
    {
     "data": {
      "text/html": [
       "<span style=\"color:blue\"> |-learning_rate: 0.001</span>"
      ],
      "text/plain": [
       "<IPython.core.display.HTML object>"
      ]
     },
     "metadata": {},
     "output_type": "display_data"
    },
    {
     "data": {
      "text/html": [
       "<span style=\"color:cyan\"> |-units: 32</span>"
      ],
      "text/plain": [
       "<IPython.core.display.HTML object>"
      ]
     },
     "metadata": {},
     "output_type": "display_data"
    },
    {
     "data": {
      "application/vnd.jupyter.widget-view+json": {
       "model_id": "1954279fe551401e9d166e640b1dfb6d",
       "version_major": 2,
       "version_minor": 0
      },
      "text/plain": [
       "HBox(children=(IntProgress(value=0, max=1875), HTML(value='')))"
      ]
     },
     "metadata": {},
     "output_type": "display_data"
    },
    {
     "name": "stdout",
     "output_type": "stream",
     "text": [
      "\n"
     ]
    },
    {
     "data": {
      "application/vnd.jupyter.widget-view+json": {
       "model_id": "1cefd291088f431f85fc4f4c82dff1a2",
       "version_major": 2,
       "version_minor": 0
      },
      "text/plain": [
       "HBox(children=(IntProgress(value=0, max=1875), HTML(value='')))"
      ]
     },
     "metadata": {},
     "output_type": "display_data"
    },
    {
     "name": "stdout",
     "output_type": "stream",
     "text": [
      "\n"
     ]
    },
    {
     "data": {
      "text/html": [
       "<table>\n",
       "<thead>\n",
       "<tr><th>Name                                         </th><th>Best model                             </th><th>Current model                          </th></tr>\n",
       "</thead>\n",
       "<tbody>\n",
       "<tr><td>accuracy                                     </td><td>0.8467                                 </td><td>0.8467                                 </td></tr>\n",
       "<tr><td>loss                                         </td><td>0.4212                                 </td><td>0.4212                                 </td></tr>\n",
       "<tr><td>val_loss                                     </td><td>0.4154                                 </td><td>0.4154                                 </td></tr>\n",
       "<tr><td><span style=\"color:green\">val_accuracy</span></td><td><span style=\"color:green\">0.8507</span></td><td><span style=\"color:green\">0.8507</span></td></tr>\n",
       "</tbody>\n",
       "</table>"
      ],
      "text/plain": [
       "<IPython.core.display.HTML object>"
      ]
     },
     "metadata": {},
     "output_type": "display_data"
    },
    {
     "data": {
      "text/html": [
       "<span style=\"color:#64DD17\"><span style=\"font-size:14px\"><b>2/3 trials left</b></span></span>"
      ],
      "text/plain": [
       "<IPython.core.display.HTML object>"
      ]
     },
     "metadata": {},
     "output_type": "display_data"
    },
    {
     "data": {
      "text/html": [
       "<span style=\"color:#4527A0\"><h1 style=\"font-size:18px\">New model</h1></span>"
      ],
      "text/plain": [
       "<IPython.core.display.HTML object>"
      ]
     },
     "metadata": {},
     "output_type": "display_data"
    },
    {
     "data": {
      "text/html": [
       "<span style=\"color:#4527A0\"><h1 style=\"font-size:18px\">Trial summary</h1></span>"
      ],
      "text/plain": [
       "<IPython.core.display.HTML object>"
      ]
     },
     "metadata": {},
     "output_type": "display_data"
    },
    {
     "data": {
      "text/html": [
       "<span style=\"color:#7E57C2\"><h2 style=\"font-size:16px\">Hp values:</h2></span>"
      ],
      "text/plain": [
       "<IPython.core.display.HTML object>"
      ]
     },
     "metadata": {},
     "output_type": "display_data"
    },
    {
     "data": {
      "text/html": [
       "<span style=\"color:cyan\"> |-dropout: 0.1</span>"
      ],
      "text/plain": [
       "<IPython.core.display.HTML object>"
      ]
     },
     "metadata": {},
     "output_type": "display_data"
    },
    {
     "data": {
      "text/html": [
       "<span style=\"color:blue\"> |-learning_rate: 0.0001</span>"
      ],
      "text/plain": [
       "<IPython.core.display.HTML object>"
      ]
     },
     "metadata": {},
     "output_type": "display_data"
    },
    {
     "data": {
      "text/html": [
       "<span style=\"color:cyan\"> |-units: 32</span>"
      ],
      "text/plain": [
       "<IPython.core.display.HTML object>"
      ]
     },
     "metadata": {},
     "output_type": "display_data"
    },
    {
     "data": {
      "application/vnd.jupyter.widget-view+json": {
       "model_id": "8ab6688848e94227a1fcdaa2b870354c",
       "version_major": 2,
       "version_minor": 0
      },
      "text/plain": [
       "HBox(children=(IntProgress(value=0, max=1875), HTML(value='')))"
      ]
     },
     "metadata": {},
     "output_type": "display_data"
    }
   ],
   "source": [
    "# start hyper-parameter optmizatin search\n",
    "tuner.search(x_train, y_train,\n",
    "             epochs=2,\n",
    "             validation_data=(x_test, y_test))"
   ]
  },
  {
   "cell_type": "code",
   "execution_count": null,
   "metadata": {
    "colab": {},
    "colab_type": "code",
    "id": "RCDRarJF5XPB"
   },
   "outputs": [],
   "source": [
    "# You can print a summary of the search space:\n",
    "tuner.results_summary()"
   ]
  },
  {
   "cell_type": "code",
   "execution_count": null,
   "metadata": {
    "colab": {},
    "colab_type": "code",
    "collapsed": true,
    "id": "k7vcR3Mx5jDv"
   },
   "outputs": [],
   "source": [
    "# get the best model\n",
    "model = tuner.get_best_models(num_models=1)[0]"
   ]
  },
  {
   "cell_type": "markdown",
   "metadata": {
    "colab_type": "text",
    "id": "yz9urtAXuEPn"
   },
   "source": [
    "## Evaluation"
   ]
  },
  {
   "cell_type": "code",
   "execution_count": null,
   "metadata": {
    "colab": {},
    "colab_type": "code",
    "collapsed": true,
    "id": "89d4A0NjXR9C"
   },
   "outputs": [],
   "source": [
    "# Test your model using the test data\n",
    "predictions = model.predict(x_test)\n",
    "predictions = tf.argmax(predictions, axis=1)"
   ]
  },
  {
   "cell_type": "code",
   "execution_count": null,
   "metadata": {
    "colab": {},
    "colab_type": "code",
    "id": "aw6iAvhdZfBX"
   },
   "outputs": [],
   "source": [
    "# check the confusion matrix\n",
    "classes=[\"T-shirt/top\", \"Trouser\", \"Pullover\", \"Dress\", \"Coat\", \"Sandal\", \"Shirt\", \"Sneaker\", \"Bag\", \"Ankle boot\"]\n",
    "plot_confusion_matrix(y_test, predictions, classes)"
   ]
  },
  {
   "cell_type": "markdown",
   "metadata": {
    "colab_type": "text",
    "id": "sMbvCaGJrxJw"
   },
   "source": [
    "## Expert API\n",
    "\n",
    "## Model Subclassing\n",
    "\n",
    "- Feels like Python Object Oriented programming (Inspired by Chainer)"
   ]
  },
  {
   "cell_type": "markdown",
   "metadata": {
    "colab_type": "text",
    "id": "nGdjjXZLK1cU"
   },
   "source": [
    "## Data Loading and Transformation\n",
    "\n",
    "- Tensorflow datasets provide many, ready to use, datasets\n",
    "- For this demo, you can use a Vision classification dataset like:\n",
    "   - cifar10\n",
    "   - cifar100\n",
    "   - MNIST "
   ]
  },
  {
   "cell_type": "code",
   "execution_count": null,
   "metadata": {
    "colab": {},
    "colab_type": "code",
    "id": "LYKIzMvYlaWY"
   },
   "outputs": [],
   "source": [
    "# See available datasets\n",
    "print(tfds.list_builders())"
   ]
  },
  {
   "cell_type": "code",
   "execution_count": null,
   "metadata": {
    "colab": {},
    "colab_type": "code",
    "collapsed": true,
    "id": "HYZYzUxI24fq"
   },
   "outputs": [],
   "source": [
    "# choose a dataset\n",
    "# - horses_or_humans\n",
    "# - cifar10\n",
    "# - cifar100\n",
    "# - caltech101\n",
    "\n",
    "DATASET_NAME = 'cifar10'"
   ]
  },
  {
   "cell_type": "code",
   "execution_count": null,
   "metadata": {
    "colab": {},
    "colab_type": "code",
    "collapsed": true,
    "id": "Z-ALlE6w2HA1"
   },
   "outputs": [],
   "source": [
    "def read_images(features):\n",
    "  image, label = features[\"image\"], features[\"label\"]\n",
    "  return image, label"
   ]
  },
  {
   "cell_type": "code",
   "execution_count": null,
   "metadata": {
    "colab": {},
    "colab_type": "code",
    "collapsed": true,
    "id": "A4Qee--gmVku"
   },
   "outputs": [],
   "source": [
    "def scalling(image, label, height=32, width=32):\n",
    "  return tf.image.resize(image, [height, width]), label"
   ]
  },
  {
   "cell_type": "code",
   "execution_count": null,
   "metadata": {
    "colab": {},
    "colab_type": "code",
    "collapsed": true,
    "id": "i-5tL1aum6s-"
   },
   "outputs": [],
   "source": [
    "def normalize(image, label):\n",
    "  image = tf.cast(image, tf.float32)\n",
    "  return image/255., label"
   ]
  },
  {
   "cell_type": "code",
   "execution_count": null,
   "metadata": {
    "colab": {},
    "colab_type": "code",
    "collapsed": true,
    "id": "vdqRiXmbo527"
   },
   "outputs": [],
   "source": [
    "BATCH_SIZE=128\n",
    "EPOCHS=2"
   ]
  },
  {
   "cell_type": "code",
   "execution_count": null,
   "metadata": {
    "colab": {},
    "colab_type": "code",
    "collapsed": true,
    "id": "rPgF7ULQ0HgB"
   },
   "outputs": [],
   "source": [
    "# Construct a tf.data.Dataset\n",
    "# tf.data.DataSet acts as an ETL (Extract Transform Load) tool\n",
    "train_dataset = tfds.load(name=DATASET_NAME, split=tfds.Split.TRAIN)\n",
    "\n",
    "# Build your input pipeline\n",
    "train_dataset = train_dataset.map(read_images)\n",
    "train_dataset = train_dataset.map(normalize)\n",
    "train_dataset = train_dataset.shuffle(1024)\n",
    "train_dataset = train_dataset.batch(BATCH_SIZE)\n",
    "train_dataset = train_dataset.repeat(1)\n",
    "train_dataset = train_dataset.prefetch(tf.data.experimental.AUTOTUNE)"
   ]
  },
  {
   "cell_type": "code",
   "execution_count": null,
   "metadata": {
    "colab": {},
    "colab_type": "code",
    "collapsed": true,
    "id": "r1tcIigo14lf"
   },
   "outputs": [],
   "source": [
    "# Construct a testing tf.data.Dataset\n",
    "test_dataset = tfds.load(name=DATASET_NAME, split=tfds.Split.TEST)\n",
    "test_dataset = test_dataset.map(read_images)\n",
    "test_dataset = test_dataset.map(normalize)\n",
    "test_dataset = test_dataset.repeat(1)\n",
    "test_dataset = test_dataset.batch(1024)"
   ]
  },
  {
   "cell_type": "code",
   "execution_count": null,
   "metadata": {
    "colab": {},
    "colab_type": "code",
    "collapsed": true,
    "id": "y_cXisnd09--"
   },
   "outputs": [],
   "source": [
    "IMAGE_HEIGHT = None\n",
    "IMAGE_WIDTH = None\n",
    "IMAGE_DEPTH = None\n",
    "N_CLASSES = None"
   ]
  },
  {
   "cell_type": "markdown",
   "metadata": {
    "colab_type": "text",
    "id": "5GDT_FgwxK5A"
   },
   "source": [
    "## Visualize some examples"
   ]
  },
  {
   "cell_type": "code",
   "execution_count": null,
   "metadata": {
    "colab": {},
    "colab_type": "code",
    "id": "7MPqqBCt0UQv"
   },
   "outputs": [],
   "source": [
    "fig, axs = plt.subplots(nrows=3, ncols=12, constrained_layout=False, figsize=(22,4))\n",
    "\n",
    "data, labels = next(test_dataset.__iter__())\n",
    "\n",
    "IMAGE_HEIGHT, IMAGE_WIDTH, IMAGE_DEPTH = data.shape[1:]\n",
    "\n",
    "for i, ax in enumerate(axs.flat):\n",
    "  ax.imshow(np.squeeze(np.reshape(data[i], (IMAGE_HEIGHT,IMAGE_WIDTH, IMAGE_DEPTH))))\n",
    "  \n",
    "plt.show()\n",
    "N_CLASSES=len(np.unique(labels))"
   ]
  },
  {
   "cell_type": "code",
   "execution_count": null,
   "metadata": {
    "colab": {},
    "colab_type": "code",
    "id": "4xnMOXfW2Op7"
   },
   "outputs": [],
   "source": [
    "print(\"IMAGE HEIGHT:\",IMAGE_HEIGHT)\n",
    "print(\"IMAGE WIDTH:\",IMAGE_WIDTH)\n",
    "print(\"IMAGE DEPTH:\",IMAGE_DEPTH)\n",
    "print(\"NUMBER OF CLASSES:\",N_CLASSES)"
   ]
  },
  {
   "cell_type": "markdown",
   "metadata": {
    "colab_type": "text",
    "id": "7pLM0LMrKzBC"
   },
   "source": [
    "## Model Subclassing\n",
    "- Build a Python Class and extend the **tf.keras.Model** class provided by TF.\n",
    "- Define the model layers in the Class *Constructor*\n",
    "- Define the model's forward pass in the *call()* method\n",
    "\n",
    "## Define your model below\n",
    "- Define the number of filters for each conv layer\n",
    "- Define the size of the kernel for each conv layer\n",
    "- Try to add more layers"
   ]
  },
  {
   "cell_type": "code",
   "execution_count": null,
   "metadata": {
    "colab": {},
    "colab_type": "code",
    "collapsed": true,
    "id": "7xsNUnKTrLJx"
   },
   "outputs": [],
   "source": [
    "class Model(tf.keras.Model):\n",
    "  def __init__(self):\n",
    "    # Define the layers here\n",
    "    super(Model, self).__init__()\n",
    "    self.conv1 = Conv2D(filters=..., kernel_size=..., padding=\"same\", strides=1, input_shape=(IMAGE_HEIGHT,IMAGE_WIDTH,IMAGE_DEPTH))\n",
    "    self.conv2 = Conv2D(filters=..., kernel_size=..., padding=\"same\", strides=1)\n",
    "    self.pool = MaxPool2D(pool_size=2, strides=2, padding=\"same\")\n",
    "    self.flat = Flatten()\n",
    "    self.probs = Dense(units=N_CLASSES, activation='softmax', name=\"output\")\n",
    "  \n",
    "  def call(self, x):\n",
    "    # Define the forward pass\n",
    "    net = self.conv1(x)\n",
    "    net = self.pool(net)\n",
    "    net = self.conv2(net)\n",
    "    net = self.pool(net)\n",
    "    net = self.flat(net)\n",
    "    net = self.probs(net)\n",
    "    return net\n",
    "  \n",
    "  def compute_output_shape(self, input_shape):\n",
    "    # You need to override this function if you want to use the subclassed model\n",
    "    # as part of a functional-style model.\n",
    "    # Otherwise, this method is optional.\n",
    "    shape = tf.TensorShape(input_shape).as_list()\n",
    "    shape[-1] = self.num_classes\n",
    "    return tf.TensorShape(shape)"
   ]
  },
  {
   "cell_type": "code",
   "execution_count": null,
   "metadata": {
    "colab": {},
    "colab_type": "code",
    "collapsed": true,
    "id": "2yt8XbbCxdEP"
   },
   "outputs": [],
   "source": [
    "# create the model\n",
    "model = Model()"
   ]
  },
  {
   "cell_type": "markdown",
   "metadata": {
    "colab_type": "text",
    "id": "N6lqhJIrxXam"
   },
   "source": [
    "## Training\n",
    "\n",
    "- Both models (Sequential and Subclassing) can be trained using the fit() method.\n",
    "- The fit() method works either with:\n",
    "  - **tf.data.Dataset**\n",
    "  - **NumPy nd-arrays**"
   ]
  },
  {
   "cell_type": "code",
   "execution_count": null,
   "metadata": {
    "colab": {},
    "colab_type": "code",
    "id": "acbwLG0wifE9"
   },
   "outputs": [],
   "source": [
    "# model.compile(optimizer='adam',\n",
    "#               loss='sparse_categorical_crossentropy',\n",
    "#               metrics=['accuracy'])\n",
    "\n",
    "# # train the model\n",
    "# model.fit(train_dataset, epochs=2,\n",
    "#           validation_data=test_dataset)\n",
    "\n",
    "# _ = model.evaluate(test_dataset)"
   ]
  },
  {
   "cell_type": "markdown",
   "metadata": {
    "colab_type": "text",
    "id": "VIyv8yDMk9BL"
   },
   "source": [
    "## Advanced Training loop\n",
    "\n",
    "If you want a clear understanding of what is going on during training, you can define the training loop by yourself using the **Gradient Tape**.\n",
    "\n",
    "- Forward pass\n",
    "- Loss function evaluation\n",
    "- Backward pass\n",
    "- Gradient descent step\n",
    "\n",
    "That is the best choice if:\n",
    "\n",
    "- You are doing research\n",
    "- You want to get a clear sense of Backprop and Gradient Descent steps.\n",
    "- You need to inspect your loss function w.r.t the weights or the gradient values.\n",
    "\n",
    "**More flexibility comes with an extra cost.**\n",
    "\n",
    "Best practices.\n",
    "- For Software Engineering, the fit() method has many more advantages \n",
    "- You can spot bugs faster\n",
    "- Code is written is a more standardized way"
   ]
  },
  {
   "cell_type": "code",
   "execution_count": null,
   "metadata": {
    "colab": {},
    "colab_type": "code",
    "collapsed": true,
    "id": "W60L3hge0F0N"
   },
   "outputs": [],
   "source": [
    "# define the loss function and the optimizer\n",
    "cross_entropy = tf.keras.losses.CategoricalCrossentropy(from_logits=False)\n",
    "optimizer = tf.keras.optimizers.Adam()"
   ]
  },
  {
   "cell_type": "code",
   "execution_count": null,
   "metadata": {
    "colab": {},
    "colab_type": "code",
    "collapsed": true,
    "id": "okuqkiVJ3tWf"
   },
   "outputs": [],
   "source": [
    "# Define the metrics and a loss function accumulator\n",
    "train_loss = tf.keras.metrics.Mean(name='train_loss')\n",
    "train_accuracy = tf.keras.metrics.SparseCategoricalAccuracy(name='train_accuracy')\n",
    "\n",
    "test_loss = tf.keras.metrics.Mean(name='test_loss')\n",
    "test_accuracy = tf.keras.metrics.SparseCategoricalAccuracy(name='test_accuracy')"
   ]
  },
  {
   "cell_type": "code",
   "execution_count": null,
   "metadata": {
    "colab": {},
    "colab_type": "code",
    "collapsed": true,
    "id": "1WQgsQfsz_KQ"
   },
   "outputs": [],
   "source": [
    "# @tf.function\n",
    "def train_step(images, labels):\n",
    "\n",
    "  with tf.GradientTape() as tape:\n",
    "    # forward pass\n",
    "    predictions = model(images)\n",
    "    \n",
    "    # compute the loss\n",
    "    loss = cross_entropy(tf.one_hot(labels, N_CLASSES), predictions)\n",
    "  \n",
    "  # get the gradients w.r.t the model's weights\n",
    "  gradients = tape.gradient(loss, model.trainable_variables)\n",
    "  \n",
    "  # perform a gradient descent step\n",
    "  optimizer.apply_gradients(zip(gradients, model.trainable_variables))\n",
    "  \n",
    "  # accumulates the training loss and accuracy\n",
    "  train_loss(loss)\n",
    "  train_accuracy(labels, predictions)"
   ]
  },
  {
   "cell_type": "code",
   "execution_count": null,
   "metadata": {
    "colab": {},
    "colab_type": "code",
    "collapsed": true,
    "id": "Yp7I9-UJz_O-"
   },
   "outputs": [],
   "source": [
    "# @tf.function\n",
    "def test_step(images, labels):\n",
    "  # Perform inference, and assess model accuracy \n",
    "  predictions = model(images)\n",
    "  t_loss = cross_entropy(tf.one_hot(labels, N_CLASSES), predictions)\n",
    "\n",
    "  test_loss(t_loss)\n",
    "  test_accuracy(labels, predictions)"
   ]
  },
  {
   "cell_type": "code",
   "execution_count": null,
   "metadata": {
    "colab": {},
    "colab_type": "code",
    "id": "uli5-yTOz_SF"
   },
   "outputs": [],
   "source": [
    "for epoch in range(EPOCHS):\n",
    "  start = time.time()\n",
    "  for x_batch, y_batch in train_dataset:\n",
    "    train_step(x_batch, y_batch)\n",
    "    \n",
    "  end = time.time()-start\n",
    "  \n",
    "  # evaluate \n",
    "  for test_images, test_labels in test_dataset:\n",
    "    test_step(test_images, test_labels)\n",
    "\n",
    "  template = 'Epoch {}, Loss: {:0.2f}, Accuracy: {:0.2f}, Test Loss: {:0.2f}, Test Accuracy: {:0.2f}, Time taken for epoch is {:0.2f} sec'\n",
    "  print (template.format(epoch+1,\n",
    "                         train_loss.result(),\n",
    "                         train_accuracy.result()*100,\n",
    "                         test_loss.result(),\n",
    "                         test_accuracy.result()*100,\n",
    "                         end))"
   ]
  },
  {
   "cell_type": "markdown",
   "metadata": {
    "colab_type": "text",
    "id": "eLuclmRp1cMN"
   },
   "source": [
    "## Extracting Performance of your EagerCode\n",
    "\n",
    "- If you choose to train your model using Gradient Tape, you will notice a substantial decrease in performance\n",
    "\n",
    "- In TF 2.0 you can take advantage of Graph performance by using *tf.function*\n",
    "\n",
    "- If you decorate a python function with **tf.function**, TF will take your function and convert it to a TF high-performance abstraction\n",
    "\n",
    "- With tf.function, **you loose some of the benefits of eager execution**.\n",
    "\n",
    "**Try to decorate the training step function with with tf.function**"
   ]
  },
  {
   "cell_type": "code",
   "execution_count": null,
   "metadata": {
    "colab": {},
    "colab_type": "code",
    "id": "rl_ecGgYu0GC"
   },
   "outputs": [],
   "source": [
    "predictions = []\n",
    "labels = []\n",
    "for test_images, test_labels in test_dataset:\n",
    "  probabilities = model(test_images.numpy())\n",
    "  predictions.extend(tf.argmax(probabilities, axis=1))\n",
    "  labels.extend(test_labels.numpy())\n",
    "  \n",
    "classes=[\"airplane\",\"automobile\",\"bird\",\"cat\",\"deer\",\"dog\",\"frog\",\"horse\",\"ship\",\"truck\"]\n",
    "plot_confusion_matrix(labels, predictions, classes)"
   ]
  },
  {
   "cell_type": "markdown",
   "metadata": {
    "colab_type": "text",
    "id": "4dZNAMJXr7aK"
   },
   "source": [
    "## Save and Restore Models\n",
    "\n",
    "- Single API to save and load models - The SavedModel\n",
    "- You can also save keras models using (HDF5 format)"
   ]
  },
  {
   "cell_type": "code",
   "execution_count": null,
   "metadata": {
    "colab": {},
    "colab_type": "code",
    "id": "z-AvrR8xsDU7"
   },
   "outputs": [],
   "source": [
    "# serialize your model to a SavedModel object\n",
    "# It includes the entire graph, all variables and weights\n",
    "try:\n",
    "  model.save('./saved_model', save_format='tf')\n",
    "except NotImplementedError:\n",
    "  tf.keras.experimental.export_saved_model(model, '/saved_model')\n",
    "  \n",
    "!ls ./saved_model"
   ]
  },
  {
   "cell_type": "markdown",
   "metadata": {
    "colab_type": "text",
    "id": "rFb2BqCbYzvb"
   },
   "source": [
    "## Load the Saved Model and Reevaluate it"
   ]
  },
  {
   "cell_type": "markdown",
   "metadata": {},
   "source": [
    "- SavedModels are integrated with the Tensorflow ecosystem.\n",
    "- You can deploy a SavedModel to many different devices like Raspberry Pi, Edge TPUs or your phone."
   ]
  },
  {
   "cell_type": "code",
   "execution_count": null,
   "metadata": {
    "colab": {},
    "colab_type": "code",
    "collapsed": true,
    "id": "nx6oKnNzjFCs"
   },
   "outputs": [],
   "source": [
    "# load your saved model\n",
    "model = tf.keras.models.load_model('./saved_model')\n",
    "# model.summary()"
   ]
  },
  {
   "cell_type": "code",
   "execution_count": null,
   "metadata": {
    "colab": {},
    "colab_type": "code",
    "id": "wvCXDPpxkhVs"
   },
   "outputs": [],
   "source": [
    "predictions = []\n",
    "labels = []\n",
    "for test_images, test_labels in test_dataset:\n",
    "  probabilities = model(test_images.numpy())\n",
    "  predictions.extend(tf.argmax(probabilities, axis=1))\n",
    "  labels.extend(test_labels.numpy())\n",
    "  \n",
    "classes=[\"airplane\",\"automobile\",\"bird\",\"cat\",\"deer\",\"dog\",\"frog\",\"horse\",\"ship\",\"truck\"]\n",
    "plot_confusion_matrix(labels, predictions, classes)"
   ]
  },
  {
   "cell_type": "markdown",
   "metadata": {
    "colab_type": "text",
    "id": "R1oyi-Ap29AL"
   },
   "source": [
    "## Converting to TF Lite\n",
    "\n",
    "- You can do post-processing quantization with the TFLiteConverter\n",
    "- Set the optimizations flag to \"OPTIMIZE_FOR_SIZE\""
   ]
  },
  {
   "cell_type": "code",
   "execution_count": null,
   "metadata": {
    "colab": {},
    "colab_type": "code",
    "collapsed": true,
    "id": "v1iostfpsDyg"
   },
   "outputs": [],
   "source": [
    "# create a TF Lite converter \n",
    "converter = tf.lite.TFLiteConverter.from_keras_model(model)\n",
    "\n",
    "# performs model quantization to reduce the size of the model and improve latency\n",
    "converter.optimizations = [tf.lite.Optimize.OPTIMIZE_FOR_SIZE]\n",
    "\n",
    "tflite_model = converter.convert()"
   ]
  },
  {
   "cell_type": "markdown",
   "metadata": {
    "colab_type": "text",
    "id": "ftleVjEKsD9y"
   },
   "source": [
    "## Converting to Tensorflow.js"
   ]
  },
  {
   "cell_type": "code",
   "execution_count": null,
   "metadata": {
    "colab": {},
    "colab_type": "code",
    "collapsed": true,
    "id": "28PKeDfPzqxt"
   },
   "outputs": [],
   "source": [
    "# !pip install tensorflowjs"
   ]
  },
  {
   "cell_type": "code",
   "execution_count": null,
   "metadata": {
    "colab": {},
    "colab_type": "code",
    "collapsed": true,
    "id": "vOE-nMMriOqm"
   },
   "outputs": [],
   "source": [
    "# !pip uninstall tensorflow\n",
    "# !pip install tensorflow==2.0.0-beta1"
   ]
  },
  {
   "cell_type": "code",
   "execution_count": null,
   "metadata": {
    "colab": {},
    "colab_type": "code",
    "id": "p07CQ1zoSkKe"
   },
   "outputs": [],
   "source": [
    "import tensorflow as tf\n",
    "print(tf.__version__)"
   ]
  },
  {
   "cell_type": "code",
   "execution_count": null,
   "metadata": {
    "colab": {},
    "colab_type": "code",
    "id": "uEPKabPmI6wa"
   },
   "outputs": [],
   "source": [
    "!tensorflowjs_converter --version"
   ]
  },
  {
   "cell_type": "code",
   "execution_count": null,
   "metadata": {
    "colab": {},
    "colab_type": "code",
    "id": "9kAbeiu_XIuB"
   },
   "outputs": [],
   "source": [
    "!tensorflowjs_converter \\\n",
    "    --input_format=tf_saved_model \\\n",
    "    --saved_model_tags=serve \\\n",
    "    --output_format=tfjs_graph_model \\\n",
    "    ./saved_model \\\n",
    "    ./web_model"
   ]
  },
  {
   "cell_type": "code",
   "execution_count": null,
   "metadata": {
    "colab": {},
    "colab_type": "code",
    "collapsed": true,
    "id": "mfrYC0QmTCXx"
   },
   "outputs": [],
   "source": []
  }
 ],
 "metadata": {
  "accelerator": "GPU",
  "colab": {
   "collapsed_sections": [],
   "name": "Tensorflow2.0_papis_workshop.ipynb",
   "provenance": [],
   "toc_visible": true,
   "version": "0.3.2"
  },
  "kernelspec": {
   "display_name": "tf2.0",
   "language": "python",
   "name": "tf2.0"
  },
  "language_info": {
   "codemirror_mode": {
    "name": "ipython",
    "version": 3
   },
   "file_extension": ".py",
   "mimetype": "text/x-python",
   "name": "python",
   "nbconvert_exporter": "python",
   "pygments_lexer": "ipython3",
   "version": "3.6.3"
  }
 },
 "nbformat": 4,
 "nbformat_minor": 1
}
